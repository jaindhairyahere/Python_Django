{
 "cells": [
  {
   "cell_type": "code",
   "execution_count": 1,
   "metadata": {},
   "outputs": [],
   "source": [
    "import numpy as np \n",
    "import pandas as pd\n",
    "from bs4 import BeautifulSoup\n",
    "import requests\n",
    "import sqlite3\n",
    "url1 = \"https://www.imdb.com/search/title/?groups=top_250&sort=user_rating,desc\"\n",
    "url2 = \"https://www.imdb.com/search/title/?groups=top_250&sort=user_rating,desc&start=51&ref_=adv_nxt\"\n",
    "url3 = \"https://www.imdb.com/search/title/?groups=top_250&sort=user_rating,desc&start=101&ref_=adv_nxt\"\n",
    "url4 = \"https://www.imdb.com/search/title/?groups=top_250&sort=user_rating,desc&start=151&ref_=adv_nxt\"\n",
    "url5 = \"https://www.imdb.com/search/title/?groups=top_250&sort=user_rating,desc&start=201&ref_=adv_nxt\"\n",
    "    \n",
    "urls = [url1, url2, url3, url4, url5]\n",
    "titles = []\n",
    "ratings = []\n",
    "release_dates = []\n",
    "descriptions = []\n",
    "durations = []"
   ]
  },
  {
   "cell_type": "code",
   "execution_count": 2,
   "metadata": {},
   "outputs": [],
   "source": [
    "for url in urls:\n",
    "    response = requests.get(url)\n",
    "    soup = BeautifulSoup(response.text)\n",
    "    name_release_class = soup.find_all('h3', {'class': 'lister-item-header'})\n",
    "    rating_class = soup.find_all('div',{'class':'ratings-bar'})\n",
    "    desc_class = soup.find_all('p', {'class': 'text-muted'})\n",
    "    time_class = soup.find_all('span',{'class':'runtime'})\n",
    "\n",
    "    for name_release_objects in name_release_class:\n",
    "        for name in name_release_objects.find_all('a'):\n",
    "            titles.append(name.text)\n",
    "        for release in name_release_objects.find_all('span',{'class':'lister-item-year text-muted unbold'}):\n",
    "            release_dates.append(release.text)\n",
    "    for rating_object in rating_class:\n",
    "        for rating in rating_object.find_all('strong'):\n",
    "            ratings.append(rating.text)\n",
    "    for desc in desc_class:\n",
    "        desc_text = desc.text.lstrip()\n",
    "        descriptions.append(desc_text)\n",
    "    for time in time_class:\n",
    "        durations.append(time.text)\n",
    "        \n"
   ]
  },
  {
   "cell_type": "code",
   "execution_count": 3,
   "metadata": {},
   "outputs": [
    {
     "data": {
      "text/plain": [
       "'\\n    for time_objects in time_class:\\n        durations.append(duration.text)\\n'"
      ]
     },
     "execution_count": 3,
     "metadata": {},
     "output_type": "execute_result"
    }
   ],
   "source": [
    "\n",
    "titles = np.array(titles)\n",
    "ratings = np.array(ratings)\n",
    "release_dates = np.array(release_dates)\n",
    "descriptions = np.array(descriptions[1::2])\n",
    "# time_class = np.array(time_class)\n",
    "\n",
    "my_db = pd.DataFrame()\n",
    "my_db['title']= titles\n",
    "my_db['rating']= ratings\n",
    "my_db['release_date']= release_dates\n",
    "my_db['duration']=durations\n",
    "\n",
    "my_db['description']=descriptions\n",
    "\n",
    "'''\n",
    "    for time_objects in time_class:\n",
    "        durations.append(duration.text)\n",
    "'''"
   ]
  },
  {
   "cell_type": "code",
   "execution_count": 10,
   "metadata": {},
   "outputs": [
    {
     "data": {
      "text/html": [
       "<div>\n",
       "<style scoped>\n",
       "    .dataframe tbody tr th:only-of-type {\n",
       "        vertical-align: middle;\n",
       "    }\n",
       "\n",
       "    .dataframe tbody tr th {\n",
       "        vertical-align: top;\n",
       "    }\n",
       "\n",
       "    .dataframe thead th {\n",
       "        text-align: right;\n",
       "    }\n",
       "</style>\n",
       "<table border=\"1\" class=\"dataframe\">\n",
       "  <thead>\n",
       "    <tr style=\"text-align: right;\">\n",
       "      <th></th>\n",
       "      <th>title</th>\n",
       "      <th>rating</th>\n",
       "      <th>release_date</th>\n",
       "      <th>duration</th>\n",
       "      <th>description</th>\n",
       "    </tr>\n",
       "  </thead>\n",
       "  <tbody>\n",
       "    <tr>\n",
       "      <th>0</th>\n",
       "      <td>The Shawshank Redemption</td>\n",
       "      <td>9.3</td>\n",
       "      <td>(1994)</td>\n",
       "      <td>142 min</td>\n",
       "      <td>Two imprisoned men bond over a number of years...</td>\n",
       "    </tr>\n",
       "    <tr>\n",
       "      <th>1</th>\n",
       "      <td>The Godfather</td>\n",
       "      <td>9.2</td>\n",
       "      <td>(1972)</td>\n",
       "      <td>175 min</td>\n",
       "      <td>The aging patriarch of an organized crime dyna...</td>\n",
       "    </tr>\n",
       "    <tr>\n",
       "      <th>2</th>\n",
       "      <td>The Dark Knight</td>\n",
       "      <td>9.0</td>\n",
       "      <td>(2008)</td>\n",
       "      <td>152 min</td>\n",
       "      <td>When the menace known as the Joker wreaks havo...</td>\n",
       "    </tr>\n",
       "    <tr>\n",
       "      <th>3</th>\n",
       "      <td>The Godfather: Part II</td>\n",
       "      <td>9.0</td>\n",
       "      <td>(1974)</td>\n",
       "      <td>202 min</td>\n",
       "      <td>The early life and career of Vito Corleone in ...</td>\n",
       "    </tr>\n",
       "    <tr>\n",
       "      <th>4</th>\n",
       "      <td>The Lord of the Rings: The Return of the King</td>\n",
       "      <td>8.9</td>\n",
       "      <td>(2003)</td>\n",
       "      <td>201 min</td>\n",
       "      <td>Gandalf and Aragorn lead the World of Men agai...</td>\n",
       "    </tr>\n",
       "    <tr>\n",
       "      <th>...</th>\n",
       "      <td>...</td>\n",
       "      <td>...</td>\n",
       "      <td>...</td>\n",
       "      <td>...</td>\n",
       "      <td>...</td>\n",
       "    </tr>\n",
       "    <tr>\n",
       "      <th>245</th>\n",
       "      <td>Monsters, Inc.</td>\n",
       "      <td>8.0</td>\n",
       "      <td>(2001)</td>\n",
       "      <td>92 min</td>\n",
       "      <td>In order to power the city, monsters have to s...</td>\n",
       "    </tr>\n",
       "    <tr>\n",
       "      <th>246</th>\n",
       "      <td>Aladdin</td>\n",
       "      <td>8.0</td>\n",
       "      <td>(1992)</td>\n",
       "      <td>90 min</td>\n",
       "      <td>A kindhearted street urchin and a power-hungry...</td>\n",
       "    </tr>\n",
       "    <tr>\n",
       "      <th>247</th>\n",
       "      <td>Tenkû no shiro Rapyuta</td>\n",
       "      <td>8.0</td>\n",
       "      <td>(1986)</td>\n",
       "      <td>125 min</td>\n",
       "      <td>A young boy and a girl with a magic crystal mu...</td>\n",
       "    </tr>\n",
       "    <tr>\n",
       "      <th>248</th>\n",
       "      <td>The Terminator</td>\n",
       "      <td>8.0</td>\n",
       "      <td>(1984)</td>\n",
       "      <td>107 min</td>\n",
       "      <td>A seemingly indestructible robot is sent from ...</td>\n",
       "    </tr>\n",
       "    <tr>\n",
       "      <th>249</th>\n",
       "      <td>Butch Cassidy and the Sundance Kid</td>\n",
       "      <td>8.0</td>\n",
       "      <td>(1969)</td>\n",
       "      <td>110 min</td>\n",
       "      <td>Wyoming, early 1900s. Butch Cassidy and The Su...</td>\n",
       "    </tr>\n",
       "  </tbody>\n",
       "</table>\n",
       "<p>250 rows × 5 columns</p>\n",
       "</div>"
      ],
      "text/plain": [
       "                                             title rating release_date  \\\n",
       "0                         The Shawshank Redemption    9.3       (1994)   \n",
       "1                                    The Godfather    9.2       (1972)   \n",
       "2                                  The Dark Knight    9.0       (2008)   \n",
       "3                           The Godfather: Part II    9.0       (1974)   \n",
       "4    The Lord of the Rings: The Return of the King    8.9       (2003)   \n",
       "..                                             ...    ...          ...   \n",
       "245                                 Monsters, Inc.    8.0       (2001)   \n",
       "246                                        Aladdin    8.0       (1992)   \n",
       "247                         Tenkû no shiro Rapyuta    8.0       (1986)   \n",
       "248                                 The Terminator    8.0       (1984)   \n",
       "249             Butch Cassidy and the Sundance Kid    8.0       (1969)   \n",
       "\n",
       "    duration                                        description  \n",
       "0    142 min  Two imprisoned men bond over a number of years...  \n",
       "1    175 min  The aging patriarch of an organized crime dyna...  \n",
       "2    152 min  When the menace known as the Joker wreaks havo...  \n",
       "3    202 min  The early life and career of Vito Corleone in ...  \n",
       "4    201 min  Gandalf and Aragorn lead the World of Men agai...  \n",
       "..       ...                                                ...  \n",
       "245   92 min  In order to power the city, monsters have to s...  \n",
       "246   90 min  A kindhearted street urchin and a power-hungry...  \n",
       "247  125 min  A young boy and a girl with a magic crystal mu...  \n",
       "248  107 min  A seemingly indestructible robot is sent from ...  \n",
       "249  110 min  Wyoming, early 1900s. Butch Cassidy and The Su...  \n",
       "\n",
       "[250 rows x 5 columns]"
      ]
     },
     "execution_count": 10,
     "metadata": {},
     "output_type": "execute_result"
    }
   ],
   "source": [
    "my_db"
   ]
  },
  {
   "cell_type": "code",
   "execution_count": 16,
   "metadata": {},
   "outputs": [],
   "source": [
    "from sqlalchemy import create_engine\n",
    "engine = create_engine('sqlite://',echo=False)\n",
    "my_db.to_sql(name='hellob',con=engine)"
   ]
  },
  {
   "cell_type": "code",
   "execution_count": 24,
   "metadata": {},
   "outputs": [],
   "source": [
    "import pickle\n",
    "myfile = open(\"mydatabase.sqlite3\",'+w')"
   ]
  },
  {
   "cell_type": "code",
   "execution_count": 23,
   "metadata": {},
   "outputs": [],
   "source": [
    "pickle.dump?"
   ]
  },
  {
   "cell_type": "code",
   "execution_count": 28,
   "metadata": {},
   "outputs": [
    {
     "data": {
      "text/plain": [
       "1704"
      ]
     },
     "execution_count": 28,
     "metadata": {},
     "output_type": "execute_result"
    }
   ],
   "source": [
    "myfile.write(str(my_db))"
   ]
  },
  {
   "cell_type": "code",
   "execution_count": 33,
   "metadata": {},
   "outputs": [
    {
     "data": {
      "text/plain": [
       "<sqlite3.Cursor at 0x7f879014cea0>"
      ]
     },
     "execution_count": 33,
     "metadata": {},
     "output_type": "execute_result"
    }
   ],
   "source": [
    "import sqlite3 as db\n",
    "conn = db.connect('db.sqlite3')\n",
    "c = conn.cursor()\n",
    "c.execute(\"\"\"CREATE TABLE Movie(\n",
    "    title text,\n",
    "    rating text,\n",
    "    release_date text,\n",
    "    duration text,\n",
    "    description text\n",
    ")\"\"\")"
   ]
  },
  {
   "cell_type": "code",
   "execution_count": 35,
   "metadata": {},
   "outputs": [
    {
     "ename": "OperationalError",
     "evalue": "incomplete input",
     "output_type": "error",
     "traceback": [
      "\u001b[0;31m---------------------------------------------------------------------------\u001b[0m",
      "\u001b[0;31mOperationalError\u001b[0m                          Traceback (most recent call last)",
      "\u001b[0;32m<ipython-input-35-45be7af052e7>\u001b[0m in \u001b[0;36m<module>\u001b[0;34m\u001b[0m\n\u001b[0;32m----> 1\u001b[0;31m \u001b[0mc\u001b[0m\u001b[0;34m.\u001b[0m\u001b[0mexecute\u001b[0m\u001b[0;34m(\u001b[0m\u001b[0;34m\"INSERT INTO Movie VALUES\"\u001b[0m\u001b[0;34m,\u001b[0m\u001b[0mmy_db\u001b[0m\u001b[0;34m.\u001b[0m\u001b[0mto_sql\u001b[0m\u001b[0;34m)\u001b[0m\u001b[0;34m\u001b[0m\u001b[0;34m\u001b[0m\u001b[0m\n\u001b[0m",
      "\u001b[0;31mOperationalError\u001b[0m: incomplete input"
     ]
    }
   ],
   "source": [
    "c.execute(\"INSERT INTO Movie VALUES\",my_db.to_sql)"
   ]
  },
  {
   "cell_type": "code",
   "execution_count": null,
   "metadata": {},
   "outputs": [],
   "source": []
  }
 ],
 "metadata": {
  "kernelspec": {
   "display_name": "Python 3",
   "language": "python",
   "name": "python3"
  },
  "language_info": {
   "codemirror_mode": {
    "name": "ipython",
    "version": 3
   },
   "file_extension": ".py",
   "mimetype": "text/x-python",
   "name": "python",
   "nbconvert_exporter": "python",
   "pygments_lexer": "ipython3",
   "version": "3.7.3"
  }
 },
 "nbformat": 4,
 "nbformat_minor": 2
}
